{
 "cells": [
  {
   "cell_type": "code",
   "execution_count": 10,
   "id": "e34b3d57-f0cc-47e7-a9cd-ad6f27e120bc",
   "metadata": {},
   "outputs": [
    {
     "name": "stdout",
     "output_type": "stream",
     "text": [
      "Confusion Matrix:\n",
      "[[  8389  13939    634     74     13      7]\n",
      " [  4134 125400  10093    211     36      8]\n",
      " [   289  26698  22344    710     48     15]\n",
      " [    65   2853   4314   1147    111     29]\n",
      " [    30    758    841    336    102     20]\n",
      " [    25    432    337    123     54     25]]\n",
      "ClassificationReport:\n",
      "              precision    recall  f1-score   support\n",
      "\n",
      "           0       0.65      0.36      0.47     23056\n",
      "           1       0.74      0.90      0.81    139882\n",
      "           2       0.58      0.45      0.50     50104\n",
      "           3       0.44      0.13      0.21      8519\n",
      "           4       0.28      0.05      0.08      2087\n",
      "           5       0.24      0.03      0.05       996\n",
      "\n",
      "    accuracy                           0.70    224644\n",
      "   macro avg       0.49      0.32      0.35    224644\n",
      "weighted avg       0.68      0.70      0.67    224644\n",
      "\n"
     ]
    }
   ],
   "source": [
    "import pandas as pd\n",
    "import numpy as np\n",
    "import xgboost as xgb\n",
    "from sklearn.model_selection import train_test_split\n",
    "from sklearn.metrics import accuracy_score, classification_report\n",
    "from sklearn.metrics import confusion_matrix\n",
    "from sklearn.model_selection import GridSearchCV\n",
    "import joblib\n",
    "\n",
    "X = df[['HourOfCall', 'distance', 'distance_stat', 'pop_per_stat', 'bor_sqkm']]\n",
    "y = df['AttendanceTimeClasses3']\n",
    "y = y - 1 \n",
    "\n",
    "# Train-Test-Split\n",
    "X_train, X_test, y_train, y_test = train_test_split(X, y, test_size=0.2, random_state=42)\n",
    "\n",
    "xclf = xgb.XGBClassifier(learning_rate=0.1, max_depth=8, n_estimators=400)\n",
    "xclf.fit(X_train, y_train)\n",
    "joblib.dump(xclf, 'XGBoost3kurz.pkl')\n",
    "\n",
    "y_pred = xclf.predict(X_test)\n",
    "conf_matrix = confusion_matrix(y_test, y_pred)\n",
    "print('Confusion Matrix:')\n",
    "print(conf_matrix)\n",
    "print('ClassificationReport:')\n",
    "print(classification_report(y_test, y_pred))\n"
   ]
  },
  {
   "cell_type": "code",
   "execution_count": 7,
   "id": "693465af-d0dd-48a5-936a-904597c14a65",
   "metadata": {},
   "outputs": [],
   "source": [
    "df = pd.read_csv('/Users/Kivik11_1/Downloads/df_mi5.csv', index_col=0)"
   ]
  }
 ],
 "metadata": {
  "kernelspec": {
   "display_name": "Python 3 (ipykernel)",
   "language": "python",
   "name": "python3"
  },
  "language_info": {
   "codemirror_mode": {
    "name": "ipython",
    "version": 3
   },
   "file_extension": ".py",
   "mimetype": "text/x-python",
   "name": "python",
   "nbconvert_exporter": "python",
   "pygments_lexer": "ipython3",
   "version": "3.8.18"
  }
 },
 "nbformat": 4,
 "nbformat_minor": 5
}
